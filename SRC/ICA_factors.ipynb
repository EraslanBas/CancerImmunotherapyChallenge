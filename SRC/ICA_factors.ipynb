{
 "cells": [
  {
   "cell_type": "code",
   "execution_count": 1,
   "id": "971f58a0-8bbf-4731-a335-fee64519364f",
   "metadata": {
    "collapsed": true,
    "jupyter": {
     "outputs_hidden": true
    },
    "tags": []
   },
   "outputs": [
    {
     "name": "stderr",
     "output_type": "stream",
     "text": [
      "corrplot 0.92 loaded\n",
      "\n",
      "Warning message:\n",
      "“package ‘ggplot2’ was built under R version 4.2.2”\n",
      "\n",
      "Attaching package: ‘pls’\n",
      "\n",
      "\n",
      "The following object is masked from ‘package:corrplot’:\n",
      "\n",
      "    corrplot\n",
      "\n",
      "\n",
      "The following object is masked from ‘package:stats’:\n",
      "\n",
      "    loadings\n",
      "\n",
      "\n",
      "Warning message:\n",
      "“package ‘data.table’ was built under R version 4.2.2”\n",
      "\n",
      "Attaching package: ‘reshape2’\n",
      "\n",
      "\n",
      "The following objects are masked from ‘package:data.table’:\n",
      "\n",
      "    dcast, melt\n",
      "\n",
      "\n"
     ]
    }
   ],
   "source": [
    "source(\"Main.R\")\n",
    "\"%ni%\" = Negate( \"%in%\" )"
   ]
  },
  {
   "cell_type": "code",
   "execution_count": 2,
   "id": "01ec0979-dcdd-4603-a233-8766a90ef71e",
   "metadata": {},
   "outputs": [],
   "source": [
    "#coefs <- read.csv(\"./../DATA/AllRegResults.csv\")"
   ]
  },
  {
   "cell_type": "code",
   "execution_count": 3,
   "id": "cf78e49c-c95c-41e6-baf0-adb8a040032a",
   "metadata": {},
   "outputs": [],
   "source": [
    "# k = reshape(coefs[,c(\"guides\", \"coef\", \"respGene\")], \n",
    "#             idvar = \"guides\", \n",
    "#             timevar = \"respGene\", \n",
    "#             direction = \"wide\")\n",
    "# write.csv(k, \"Coefs.csv\", quote=FALSE, row.names=FALSE)\n"
   ]
  },
  {
   "cell_type": "code",
   "execution_count": 4,
   "id": "149bd177-0d3e-4945-a62b-4903aca32eed",
   "metadata": {},
   "outputs": [],
   "source": [
    "# l = reshape(coefs[,c(\"guides\", \"pval\", \"respGene\")], \n",
    "#             idvar = \"guides\", \n",
    "#             timevar = \"respGene\", \n",
    "#             direction = \"wide\")\n",
    "# write.csv(l, \"Pvals.csv\", quote=FALSE, row.names=FALSE)"
   ]
  },
  {
   "cell_type": "code",
   "execution_count": 5,
   "id": "3eb8a980-bebb-4ffc-a758-b50635797359",
   "metadata": {},
   "outputs": [],
   "source": [
    "KO_states <- read.csv(\"./../DATA/KO_state_perc.csv\")\n",
    "rownames(KO_states) = KO_states$condition\n",
    "KO_states$condition = NULL\n",
    "KO_states = KO_states[rownames(KO_states) != 'Unperturbed',]\n",
    "# write.csv(KO_states[order(KO_states$cycling, \n",
    "#                           KO_states$terminal.exhausted, \n",
    "#                           KO_states$effector,\n",
    "#                           KO_states$progenitor, \n",
    "#                           KO_states$other),], \"./../DATA/KO_state_perc.csv\", quote=FALSE, row.names=FALSE)\n",
    "          "
   ]
  },
  {
   "cell_type": "code",
   "execution_count": 6,
   "id": "0b356ba4-804b-4ef1-bb4c-d2a86d39b980",
   "metadata": {},
   "outputs": [],
   "source": [
    "l <- read.csv(\"./../DATA/Coefs.csv\")\n",
    "rownames(l) = l$guides\n",
    "l$guides = NULL\n",
    "colnames(l) = sapply(colnames(l), function(x){strsplit(x,\"coef.\")[[1]][2]})\n",
    "\n",
    "k <- read.csv(\"./../DATA/Pvals.csv\")\n",
    "rownames(k) = k$guides\n",
    "k$guides = NULL\n",
    "colnames(k) = sapply(colnames(k), function(x){strsplit(x,\"pval.\")[[1]][2]})\n",
    "\n",
    "#l[k > 0.1] = 0"
   ]
  },
  {
   "cell_type": "code",
   "execution_count": 7,
   "id": "7d3dc742-d6cf-406b-a4cd-8ff78a475a09",
   "metadata": {},
   "outputs": [],
   "source": [
    "l = l[rownames(l) %ni% c(\"cycling\", \"effector\", \"other\", \"exhausted\"), ]\n",
    "l = l[rownames(KO_states),]\n",
    "discardedRows = rownames(l)[which(rownames(l) %ni% colnames(l))]\n",
    "l = l[rownames(l) %ni% discardedRows,]\n",
    "l = t(l[,rownames(l)])"
   ]
  },
  {
   "cell_type": "code",
   "execution_count": 8,
   "id": "1330fe7e-9fd7-49ac-ba73-ec6d3d83a907",
   "metadata": {},
   "outputs": [],
   "source": [
    "KO_states = KO_states[rownames(l),]"
   ]
  },
  {
   "cell_type": "code",
   "execution_count": 9,
   "id": "3505957c-4db4-4858-b419-d440069b9d80",
   "metadata": {},
   "outputs": [],
   "source": [
    "# M = cor(t(l), method='pearson', use=\"complete.obs\")\n",
    "# diag(M) = NA\n",
    "# options(repr.plot.width=10, repr.plot.height=10)\n",
    "# pheatmap(M)"
   ]
  },
  {
   "cell_type": "code",
   "execution_count": 10,
   "id": "9447c32c-dedf-4bc3-840e-86d61f7b5864",
   "metadata": {},
   "outputs": [],
   "source": [
    "# M2 = cor(t(KO_states),  method='pearson')\n",
    "# options(repr.plot.width=10, repr.plot.height=10)\n",
    "# kk = pheatmap(M2, clustering_method = \"ward.D\")"
   ]
  },
  {
   "cell_type": "code",
   "execution_count": 11,
   "id": "3274fc7d-461f-4ca7-8e86-5306d99437a5",
   "metadata": {},
   "outputs": [],
   "source": [
    "# deneme= colnames(M2)[kk$tree_col$order]\n",
    "# deneme = deneme[deneme != 'Unperturbed']\n",
    "# pheatmap(M[deneme, deneme], cluster_rows = FALSE, cluster_cols = FALSE)\n"
   ]
  },
  {
   "cell_type": "code",
   "execution_count": 12,
   "id": "fa306f65-ac76-4b9b-931e-21bf215dfe58",
   "metadata": {},
   "outputs": [],
   "source": [
    "Y = KO_states"
   ]
  },
  {
   "cell_type": "code",
   "execution_count": 13,
   "id": "ccc2c725-55c2-4612-a153-34d1b90d3ab3",
   "metadata": {
    "tags": []
   },
   "outputs": [],
   "source": [
    "X = l"
   ]
  },
  {
   "cell_type": "code",
   "execution_count": 14,
   "id": "d0186bf9-ed5a-4b45-b6bd-3ca5cfd43ea7",
   "metadata": {},
   "outputs": [],
   "source": [
    "write.csv(Y, \"./../DATA/Y_sorted.csv\")"
   ]
  },
  {
   "cell_type": "code",
   "execution_count": 15,
   "id": "c09af8c6-1b71-4737-9e0c-ea8533e61b96",
   "metadata": {},
   "outputs": [],
   "source": [
    "write.csv(X, \"./../DATA/X_sorted.csv\")"
   ]
  },
  {
   "cell_type": "code",
   "execution_count": null,
   "id": "81f686d5-1f2f-4c0c-b6d2-4f1a044b047c",
   "metadata": {},
   "outputs": [],
   "source": []
  }
 ],
 "metadata": {
  "kernelspec": {
   "display_name": "R",
   "language": "R",
   "name": "ir"
  },
  "language_info": {
   "codemirror_mode": "r",
   "file_extension": ".r",
   "mimetype": "text/x-r-source",
   "name": "R",
   "pygments_lexer": "r",
   "version": "4.2.1"
  }
 },
 "nbformat": 4,
 "nbformat_minor": 5
}
